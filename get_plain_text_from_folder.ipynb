{
 "cells": [
  {
   "cell_type": "raw",
   "metadata": {
    "vscode": {
     "languageId": "raw"
    }
   },
   "source": [
    "Readme:\n",
    "This code creates a .txt with all plain text from .pdfs contained in a folder.\n",
    "It works with images such scanned documents taking 10 times more time.\n",
    "\n",
    "Folder must me in the same directory as the script.\n",
    "folder_name is the name of the folder where pdfs are stored.\n"
   ]
  },
  {
   "cell_type": "code",
   "execution_count": 1,
   "metadata": {},
   "outputs": [],
   "source": [
    "# --- activar entorno virtual\n",
    "# .\\env_OCR\\Scripts\\activate\n",
    "\n",
    "# --- Instalar scoop para instalar poppler\n",
    "# iwr -useb get.scoop.sh | iex   \n",
    "\n",
    "# --- Instalar poppler\n",
    "# (env_OCR) PS C:\\Users\\ACER\\Desktop\\TFM> \n",
    "#   C:\\Users\\{TU USUARIO}\\scoop\\shims\\scoop install poppler\n",
    "\n",
    "# instalar tesseract manualmente. \n",
    "#   https://github.com/UB-Mannheim/tesseract/wiki\n",
    "# Lo instalamos en C:\\Program Files\n",
    "\n",
    "from langchain.document_loaders import UnstructuredPDFLoader\n",
    "import os \n",
    "import subprocess\n",
    "\n",
    "# Creamos la variable de entorno en el sistema TESSDATA_PREFIX\n",
    "subprocess.run(['setx', 'TESSDATA_PREFIX', r'C:\\Program Files\\Tesseract-OCR\\tessdata'], shell=True)\n",
    "os.environ['TESSDATA_PREFIX'] = r'C:\\Program Files\\Tesseract-OCR\\tessdata'\n",
    "\n",
    "# Añadimos Tesseract al path. Este cambio NO es persistente\n",
    "path_tesseract = r'C:\\Program Files\\Tesseract-OCR'\n",
    "if path_tesseract not in os.environ['PATH']:\n",
    "    os.environ['PATH'] += os.pathsep + path_tesseract"
   ]
  },
  {
   "cell_type": "code",
   "execution_count": 2,
   "metadata": {},
   "outputs": [],
   "source": [
    "# Defino el nombre de la carpeta que debería de ser el numero de la patente\n",
    "folder_name = '14715578_copy'"
   ]
  },
  {
   "cell_type": "code",
   "execution_count": 18,
   "metadata": {},
   "outputs": [],
   "source": [
    "#Este codigo obtiene el texto plano de una carpeta con archivos pdf\n",
    "\n",
    "def extract_text_from_pdf(file_path):\n",
    "    \"\"\"\n",
    "    Returns:\n",
    "        list: Una lista de cadenas de texto, cada una representando una página del PDF.\n",
    "    \"\"\"\n",
    "    loader = UnstructuredPDFLoader(file_path)\n",
    "    document = loader.load()\n",
    "    pages_text = [page.page_content for page in document]\n",
    "    full_text = \"\\n\".join(pages_text)\n",
    "    return full_text\n",
    "\n",
    "\n",
    "def read_all_pdfs_from_folder(folder_path):\n",
    "    all_text = \"\"\n",
    "    for filename in os.listdir(folder_path):\n",
    "        if filename.endswith(\".pdf\"):\n",
    "            file_path = os.path.join(folder_path, filename)\n",
    "            try:\n",
    "                text = extract_text_from_pdf(file_path)\n",
    "                all_text += text + \"\\n\"\n",
    "                print(folder_path, ' -> OK')\n",
    "            except Exception as e:\n",
    "                print(f\"Error reading {file_path}: {e}\")\n",
    "        else:\n",
    "            print(folder_path, ' -> is not .pdf')\n",
    "    return all_text\n",
    "\n",
    "def save_text_to_file(text, filename):\n",
    "    with open(filename, 'w', encoding='utf-8') as file:\n",
    "        file.write(text)\n",
    "        print(f\"Text successfully saved to {filename}\")"
   ]
  },
  {
   "cell_type": "code",
   "execution_count": 22,
   "metadata": {},
   "outputs": [
    {
     "name": "stdout",
     "output_type": "stream",
     "text": [
      "c:\\Users\\ACER\\Desktop\\TFM\\RAG_env\\code/14715578_copy  -> OK\n",
      "c:\\Users\\ACER\\Desktop\\TFM\\RAG_env\\code/14715578_copy  -> OK\n",
      "c:\\Users\\ACER\\Desktop\\TFM\\RAG_env\\code/14715578_copy  -> OK\n",
      "c:\\Users\\ACER\\Desktop\\TFM\\RAG_env\\code/14715578_copy  -> OK\n",
      "Text successfully saved to full_text.txt\n"
     ]
    }
   ],
   "source": [
    "path_for_txt = os.getcwd()+ '/'+folder_name\n",
    "text = read_all_pdfs_from_folder(path_for_txt)\n",
    "save_text_to_file(text, 'full_text.txt')"
   ]
  }
 ],
 "metadata": {
  "kernelspec": {
   "display_name": "nombre_del_entorno",
   "language": "python",
   "name": "python3"
  },
  "language_info": {
   "codemirror_mode": {
    "name": "ipython",
    "version": 3
   },
   "file_extension": ".py",
   "mimetype": "text/x-python",
   "name": "python",
   "nbconvert_exporter": "python",
   "pygments_lexer": "ipython3",
   "version": "3.11.9"
  }
 },
 "nbformat": 4,
 "nbformat_minor": 2
}
